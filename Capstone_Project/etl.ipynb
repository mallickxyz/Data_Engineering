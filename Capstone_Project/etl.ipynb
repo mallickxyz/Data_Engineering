{
 "cells": [
  {
   "cell_type": "markdown",
   "metadata": {
    "application/vnd.databricks.v1+cell": {
     "inputWidgets": {},
     "nuid": "1a4df625-6164-4352-a370-b3ee1c846c95",
     "showTitle": false,
     "title": ""
    },
    "editable": true
   },
   "source": [
    "# Project Title\n",
    "### Data Engineering Capstone Project"
   ]
  },
  {
   "cell_type": "markdown",
   "metadata": {
    "application/vnd.databricks.v1+cell": {
     "inputWidgets": {},
     "nuid": "16485d99-e673-4ede-a505-f546bb27dab9",
     "showTitle": false,
     "title": ""
    },
    "editable": true
   },
   "source": [
    "- ###### Import necessary packages"
   ]
  },
  {
   "cell_type": "code",
   "execution_count": 159,
   "metadata": {
    "application/vnd.databricks.v1+cell": {
     "inputWidgets": {},
     "nuid": "3e258dd3-223e-43d1-a817-96943818ca19",
     "showTitle": false,
     "title": ""
    },
    "editable": true
   },
   "outputs": [],
   "source": [
    "from pyspark.sql import SparkSession\n",
    "from pyspark.context import SparkContext\n",
    "from pyspark.sql import functions as F\n",
    "from pyspark.sql.types import *\n",
    "from pyspark.sql import types as T\n",
    "import datetime\n",
    "import matplotlib.pyplot as plt\n",
    "import logging\n",
    "import os"
   ]
  },
  {
   "cell_type": "markdown",
   "metadata": {
    "application/vnd.databricks.v1+cell": {
     "inputWidgets": {},
     "nuid": "bdfd5ca5-759e-4ea3-9c70-29923d852254",
     "showTitle": false,
     "title": ""
    },
    "editable": true
   },
   "source": [
    "- ###### Helper functions are defined in `utiliy.py`. Using this command we are able to use helper functions."
   ]
  },
  {
   "cell_type": "code",
   "execution_count": 160,
   "metadata": {
    "application/vnd.databricks.v1+cell": {
     "inputWidgets": {},
     "nuid": "3f370c4c-00a9-4f6e-8afa-402354ef9e73",
     "showTitle": false,
     "title": ""
    },
    "editable": true
   },
   "outputs": [],
   "source": [
    "%run ./utility.py"
   ]
  },
  {
   "cell_type": "markdown",
   "metadata": {
    "application/vnd.databricks.v1+cell": {
     "inputWidgets": {},
     "nuid": "bccd2b7a-fbc8-4565-b76e-ccd8798de746",
     "showTitle": false,
     "title": ""
    },
    "editable": true
   },
   "source": [
    "- ###### Create Sparksession and logger object"
   ]
  },
  {
   "cell_type": "code",
   "execution_count": 161,
   "metadata": {
    "application/vnd.databricks.v1+cell": {
     "inputWidgets": {},
     "nuid": "e488e291-2143-4c45-af21-88f4e18b8e3f",
     "showTitle": false,
     "title": ""
    },
    "editable": true
   },
   "outputs": [],
   "source": [
    "def create_spark_session():\n",
    "    spark = SparkSession \\\n",
    "        .builder \\\n",
    "        .config(\"spark.jars.packages\", \"org.apache.hadoop:hadoop-aws:2.7.0\")\\\n",
    "        .appName('Capstone_Project')\\\n",
    "        .getOrCreate()\n",
    "    return spark\n",
    "  \n",
    "spark = create_spark_session()\n",
    "logger = logging.getLogger()"
   ]
  },
  {
   "cell_type": "code",
   "execution_count": 162,
   "metadata": {
    "editable": true
   },
   "outputs": [
    {
     "data": {
      "text/plain": [
       "<function __main__.casttodate(x)>"
      ]
     },
     "execution_count": 162,
     "metadata": {},
     "output_type": "execute_result"
    }
   ],
   "source": [
    "#Register `casttodate` function as `castdate` udf for using in pysaprk and sparksql\n",
    "castdate = F.udf(lambda z:casttodate(z),DateType())\n",
    "spark.udf.register(\"castdate\",casttodate,DateType())"
   ]
  },
  {
   "cell_type": "markdown",
   "metadata": {
    "application/vnd.databricks.v1+cell": {
     "inputWidgets": {},
     "nuid": "d26d98ec-7f51-49a0-a4e9-500f30a13e2a",
     "showTitle": false,
     "title": ""
    },
    "editable": true
   },
   "source": [
    "- ###### Specify s3 bucket name"
   ]
  },
  {
   "cell_type": "code",
   "execution_count": 163,
   "metadata": {
    "application/vnd.databricks.v1+cell": {
     "inputWidgets": {},
     "nuid": "f3f78c43-5c53-4f8c-b432-26da644b6edc",
     "showTitle": false,
     "title": ""
    },
    "editable": true
   },
   "outputs": [],
   "source": [
    "ACCESS_KEY = ''\n",
    "SECRET_KEY = ''\n",
    "BUCKET_NAME = 'udacityawsbucket01'\n",
    "OUTPUT_DIRECTORY = 'capstone_output'\n",
    "SOURCE_DIR = 'capstone_datasource'\n",
    "\n",
    "os.environ['AWS_ACCESS_KEY_ID']=ACCESS_KEY\n",
    "os.environ['AWS_SECRET_ACCESS_KEY']=SECRET_KEY\n",
    "\n",
    "#s3 source file have public access\n",
    "s3_path = f\"s3a://{BUCKET_NAME}/{SOURCE_DIR}/\"\n",
    "s3_output_path = \"s3a://{}:{}@{}/{}/\".format(ACCESS_KEY, SECRET_KEY, BUCKET_NAME, OUTPUT_DIRECTORY)"
   ]
  },
  {
   "cell_type": "markdown",
   "metadata": {
    "application/vnd.databricks.v1+cell": {
     "inputWidgets": {},
     "nuid": "4e26a359-8bc7-4125-93c5-92c47da9134c",
     "showTitle": false,
     "title": ""
    },
    "editable": true
   },
   "source": [
    "#### Scope \n",
    "This projects aims to enrich the US I94 immigration data with further data such as demographics and temperature data to have a wider basis for analysis on the immigration data.\n",
    "\n",
    "#### Description \n",
    "Below given detailed list of each data source used in the Project and from where it comes. For this project source of all these data residing `s3://udacityawsbucket01/capstone_datasource/`"
   ]
  },
  {
   "cell_type": "markdown",
   "metadata": {
    "application/vnd.databricks.v1+cell": {
     "inputWidgets": {},
     "nuid": "a7417115-8c75-4810-b50e-77453385c718",
     "showTitle": false,
     "title": ""
    },
    "editable": true
   },
   "source": [
    "-   **I94 Immigration Data:**  This data comes from the US National Tourism and Trade Office. A data dictionary is included in the workspace.  [This](https://travel.trade.gov/research/reports/i94/historical/2016.html)  is where the data comes from. There's a sample file so we van take a look at the data in csv format before reading it all in. We are not using the entire dataset, just using what we need to accomplish the goal, set at the beginning of the project.<br/>Immigration data can be accessed under `/data/18-83510-I94-Data-2016/`.There's a file for each month of the year in the actual dataset provided by Udacity. An example file name is `i94_apr16_sub.csv` and `i94_jun16_sub.csv` are uploaded to s3. Each file has a three-letter abbreviation for the month name. So a full file path for June would look like this: `s3://udacityawsbucket01/capstone_datasource/18-83510-I94-Data-2016/i94_jun16_sub.csv`"
   ]
  },
  {
   "cell_type": "code",
   "execution_count": 165,
   "metadata": {
    "application/vnd.databricks.v1+cell": {
     "inputWidgets": {},
     "nuid": "a0c4825f-92dc-4f45-8759-05ad9a1f25cc",
     "showTitle": false,
     "title": ""
    },
    "editable": true
   },
   "outputs": [],
   "source": [
    "immigration_data_filePath = s3_path+'18-83510-I94-Data-2016/i94_jun16_sub.csv' #'immigration_data_sample.csv'\n",
    "immigration_data = spark.read.format('csv').option('header','true').load(immigration_data_filePath)"
   ]
  },
  {
   "cell_type": "code",
   "execution_count": 166,
   "metadata": {
    "application/vnd.databricks.v1+cell": {
     "inputWidgets": {},
     "nuid": "93777041-7e08-44e8-b0b0-908e3adaf7d9",
     "showTitle": false,
     "title": ""
    },
    "editable": true
   },
   "outputs": [
    {
     "name": "stdout",
     "output_type": "stream",
     "text": [
      "+-------+---------+------+------+------+------+-------+-------+-------+-------+-------+------+-------+-----+--------+--------+-----+-------+-------+-------+-------+-------+--------+------+------+-------+-------------+-----+--------+\n",
      "|    _c0|    cicid| i94yr|i94mon|i94cit|i94res|i94port|arrdate|i94mode|i94addr|depdate|i94bir|i94visa|count|dtadfile|visapost|occup|entdepa|entdepd|entdepu|matflag|biryear| dtaddto|gender|insnum|airline|       admnum|fltno|visatype|\n",
      "+-------+---------+------+------+------+------+-------+-------+-------+-------+-------+------+-------+-----+--------+--------+-----+-------+-------+-------+-------+-------+--------+------+------+-------+-------------+-----+--------+\n",
      "|2027561|4084316.0|2016.0|   4.0| 209.0| 209.0|    HHW|20566.0|    1.0|     HI|20573.0|  61.0|    2.0|  1.0|20160422|    null| null|      G|      O|   null|      M| 1955.0|07202016|     F|  null|     JL|56582674633.0|00782|      WT|\n",
      "|2171295|4422636.0|2016.0|   4.0| 582.0| 582.0|    MCA|20567.0|    1.0|     TX|20568.0|  26.0|    2.0|  1.0|20160423|     MTR| null|      G|      R|   null|      M| 1990.0|10222016|     M|  null|    *GA|94361995930.0|XBLNG|      B2|\n",
      "| 589494|1195600.0|2016.0|   4.0| 148.0| 112.0|    OGG|20551.0|    1.0|     FL|20571.0|  76.0|    2.0|  1.0|20160407|    null| null|      G|      O|   null|      M| 1940.0|07052016|     M|  null|     LH|55780468433.0|00464|      WT|\n",
      "|2631158|5291768.0|2016.0|   4.0| 297.0| 297.0|    LOS|20572.0|    1.0|     CA|20581.0|  25.0|    2.0|  1.0|20160428|     DOH| null|      G|      O|   null|      M| 1991.0|10272016|     M|  null|     QR|94789696030.0|00739|      B2|\n",
      "|3032257| 985523.0|2016.0|   4.0| 111.0| 111.0|    CHM|20550.0|    3.0|     NY|20553.0|  19.0|    2.0|  1.0|20160406|    null| null|      Z|      K|   null|      M| 1997.0|07042016|     F|  null|   null|42322572633.0| LAND|      WT|\n",
      "+-------+---------+------+------+------+------+-------+-------+-------+-------+-------+------+-------+-----+--------+--------+-----+-------+-------+-------+-------+-------+--------+------+------+-------+-------------+-----+--------+\n",
      "only showing top 5 rows\n",
      "\n"
     ]
    }
   ],
   "source": [
    "immigration_data.show(5)"
   ]
  },
  {
   "cell_type": "markdown",
   "metadata": {
    "application/vnd.databricks.v1+cell": {
     "inputWidgets": {},
     "nuid": "3892e0b2-aadd-4067-8b70-56be7816bf7c",
     "showTitle": false,
     "title": ""
    },
    "editable": true
   },
   "source": [
    "-   **World Temperature Data:**  This dataset came from Kaggle. You can read more about it  [here](https://www.kaggle.com/berkeleyearth/climate-change-earth-surface-temperature-data).We will take the temaperatures after the year 2000.<br/> Source path : `s3://udacityawsbucket01/capstone_datasource/GlobalLandTemperaturesByCity.csv`"
   ]
  },
  {
   "cell_type": "code",
   "execution_count": 167,
   "metadata": {
    "application/vnd.databricks.v1+cell": {
     "inputWidgets": {},
     "nuid": "3db6267d-e6e9-4fb7-a3e3-6455a1cc1e9c",
     "showTitle": false,
     "title": ""
    },
    "editable": true
   },
   "outputs": [],
   "source": [
    "temperature_data_filePath = s3_path+'GlobalLandTemperaturesByCity.csv' #'GlobalLandTemperaturesByCity_sample.csv'\n",
    "temperature_data = spark.read.format('csv').option('header','true').load(temperature_data_filePath)"
   ]
  },
  {
   "cell_type": "code",
   "execution_count": 168,
   "metadata": {
    "application/vnd.databricks.v1+cell": {
     "inputWidgets": {},
     "nuid": "0a3657f7-af7e-4226-941b-56909da01a03",
     "showTitle": false,
     "title": ""
    },
    "editable": true
   },
   "outputs": [
    {
     "name": "stdout",
     "output_type": "stream",
     "text": [
      "+----------+------------------+-----------------------------+-------+----------+--------+---------+\n",
      "|        dt|AverageTemperature|AverageTemperatureUncertainty|   City|   Country|Latitude|Longitude|\n",
      "+----------+------------------+-----------------------------+-------+----------+--------+---------+\n",
      "|01-01-2000|            18.829|                        0.114|Barisal|Bangladesh|  23.31N|   90.00E|\n",
      "|01-02-2000|            20.947|                        0.158|Barisal|Bangladesh|  23.31N|   90.00E|\n",
      "|01-03-2000|            26.035|                        0.319|Barisal|Bangladesh|  23.31N|   90.00E|\n",
      "|01-04-2000|            28.545|                        0.152|Barisal|Bangladesh|  23.31N|   90.00E|\n",
      "|01-05-2000|            28.684|                        0.173|Barisal|Bangladesh|  23.31N|   90.00E|\n",
      "+----------+------------------+-----------------------------+-------+----------+--------+---------+\n",
      "only showing top 5 rows\n",
      "\n"
     ]
    }
   ],
   "source": [
    "temperature_data.show(5)"
   ]
  },
  {
   "cell_type": "markdown",
   "metadata": {
    "application/vnd.databricks.v1+cell": {
     "inputWidgets": {},
     "nuid": "e0fde51e-1047-49ee-a228-c42198981a67",
     "showTitle": false,
     "title": ""
    },
    "editable": true
   },
   "source": [
    "- **U.S. City Demographic Data:**  This data comes from OpenSoft. You can read more about it  [here](https://public.opendatasoft.com/explore/dataset/us-cities-demographics/export/).<br/> Source path : `s3://udacityawsbucket01/capstone_datasource/us_cities_demographics.csv`"
   ]
  },
  {
   "cell_type": "code",
   "execution_count": 170,
   "metadata": {
    "application/vnd.databricks.v1+cell": {
     "inputWidgets": {},
     "nuid": "2af61b12-ccda-48f9-bf84-8bc5ff697848",
     "showTitle": false,
     "title": ""
    },
    "editable": true
   },
   "outputs": [],
   "source": [
    "us_cities_filePath = s3_path+'us_cities_demographics.csv' #'us-cities-demographics.csv'\n",
    "us_city_data = spark.read.format('csv').option('header','true').option('delimiter',';').load(us_cities_filePath)"
   ]
  },
  {
   "cell_type": "code",
   "execution_count": 171,
   "metadata": {
    "application/vnd.databricks.v1+cell": {
     "inputWidgets": {},
     "nuid": "84f9877a-a044-4553-945d-86a68da3fb74",
     "showTitle": false,
     "title": ""
    },
    "editable": true
   },
   "outputs": [
    {
     "name": "stdout",
     "output_type": "stream",
     "text": [
      "+----------------+-------------+----------+---------------+-----------------+----------------+------------------+------------+----------------------+----------+--------------------+-----+\n",
      "|            City|        State|Median Age|Male Population|Female Population|Total Population|Number of Veterans|Foreign-born|Average Household Size|State Code|                Race|Count|\n",
      "+----------------+-------------+----------+---------------+-----------------+----------------+------------------+------------+----------------------+----------+--------------------+-----+\n",
      "|   Silver Spring|     Maryland|      33.8|          40601|            41862|           82463|              1562|       30908|                   2.6|        MD|  Hispanic or Latino|25924|\n",
      "|          Quincy|Massachusetts|      41.0|          44129|            49500|           93629|              4147|       32935|                  2.39|        MA|               White|58723|\n",
      "|          Hoover|      Alabama|      38.5|          38040|            46799|           84839|              4819|        8229|                  2.58|        AL|               Asian| 4759|\n",
      "|Rancho Cucamonga|   California|      34.5|          88127|            87105|          175232|              5821|       33878|                  3.18|        CA|Black or African-...|24437|\n",
      "|          Newark|   New Jersey|      34.6|         138040|           143873|          281913|              5829|       86253|                  2.73|        NJ|               White|76402|\n",
      "+----------------+-------------+----------+---------------+-----------------+----------------+------------------+------------+----------------------+----------+--------------------+-----+\n",
      "only showing top 5 rows\n",
      "\n"
     ]
    }
   ],
   "source": [
    "us_city_data.show(5)"
   ]
  },
  {
   "cell_type": "markdown",
   "metadata": {
    "application/vnd.databricks.v1+cell": {
     "inputWidgets": {},
     "nuid": "f63152e0-3559-429d-a5f1-08bfb134ef5c",
     "showTitle": false,
     "title": ""
    },
    "editable": true
   },
   "source": [
    "- **ISO Country Codes:**  This data comes from Kaggle. You can read more about it  [here](https://www.kaggle.com/andradaolteanu/iso-country-codes-global/).<br/> Source path : `s3://udacityawsbucket01/capstone_datasource/wikipedia-iso-country-codes.csv`"
   ]
  },
  {
   "cell_type": "code",
   "execution_count": 173,
   "metadata": {
    "application/vnd.databricks.v1+cell": {
     "inputWidgets": {},
     "nuid": "65d3fc83-0935-4a11-b630-662f8a772ccb",
     "showTitle": false,
     "title": ""
    },
    "editable": true
   },
   "outputs": [],
   "source": [
    "country_code_filePath = s3_path+'wikipedia-iso-country-codes.csv' #'wikipedia-iso-country-codes.csv'\n",
    "country_code_data = spark.read.format('csv').option('header','true').option('delimiter',',').load(country_code_filePath)"
   ]
  },
  {
   "cell_type": "code",
   "execution_count": 174,
   "metadata": {
    "application/vnd.databricks.v1+cell": {
     "inputWidgets": {},
     "nuid": "79455af2-532a-4a66-84b3-20362502e82d",
     "showTitle": false,
     "title": ""
    },
    "editable": true
   },
   "outputs": [
    {
     "name": "stdout",
     "output_type": "stream",
     "text": [
      "+-----------------------------+------------+------------+------------+-------------+\n",
      "|English short name lower case|Alpha-2 code|Alpha-3 code|Numeric code|   ISO 3166-2|\n",
      "+-----------------------------+------------+------------+------------+-------------+\n",
      "|                     Zimbabwe|          ZW|         ZWE|         716|ISO 3166-2:ZW|\n",
      "|                       Zambia|          ZM|         ZMB|         894|ISO 3166-2:ZM|\n",
      "|                        Yemen|          YE|         YEM|         887|ISO 3166-2:YE|\n",
      "|               Western Sahara|          EH|         ESH|         732|ISO 3166-2:EH|\n",
      "|            Wallis and Futuna|          WF|         WLF|         876|ISO 3166-2:WF|\n",
      "+-----------------------------+------------+------------+------------+-------------+\n",
      "only showing top 5 rows\n",
      "\n"
     ]
    }
   ],
   "source": [
    "country_code_data.show(5)"
   ]
  },
  {
   "cell_type": "markdown",
   "metadata": {
    "application/vnd.databricks.v1+cell": {
     "inputWidgets": {},
     "nuid": "fda24ce8-4ec7-4100-a759-560dc4867fe7",
     "showTitle": false,
     "title": ""
    },
    "editable": true
   },
   "source": [
    "### Explore, Cleanse and Assess the Data"
   ]
  },
  {
   "cell_type": "markdown",
   "metadata": {
    "application/vnd.databricks.v1+cell": {
     "inputWidgets": {},
     "nuid": "e1f5656c-9f54-4dd4-a78f-19e41baa3283",
     "showTitle": false,
     "title": ""
    },
    "editable": true
   },
   "source": [
    "####   **I94 Immigration Data:**"
   ]
  },
  {
   "cell_type": "markdown",
   "metadata": {
    "application/vnd.databricks.v1+cell": {
     "inputWidgets": {},
     "nuid": "78ba0dcb-1cfc-4818-ae65-0393031b8dac",
     "showTitle": false,
     "title": ""
    },
    "editable": true
   },
   "source": [
    "- ###### Immigrant Data Dictionary"
   ]
  },
  {
   "cell_type": "code",
   "execution_count": 175,
   "metadata": {
    "application/vnd.databricks.v1+cell": {
     "inputWidgets": {},
     "nuid": "9c612269-a58b-4e82-9e1a-58688a2a05d8",
     "showTitle": false,
     "title": ""
    },
    "editable": true
   },
   "outputs": [
    {
     "name": "stdout",
     "output_type": "stream",
     "text": [
      "+-----------------+----------------------+--------+----------------------------------------------------------+\n",
      "|OriginalAttribute|RenamedAttribute      |DataType|Description                                               |\n",
      "+-----------------+----------------------+--------+----------------------------------------------------------+\n",
      "|cicid            |immigrant_id          |integer |Immigrant ID                                              |\n",
      "|i94yr            |year                  |integer |4 digit year                                              |\n",
      "|i94mon           |month                 |integer |Numeric month                                             |\n",
      "|i94cit           |origin_country_code   |integer |Origin Country Code                                       |\n",
      "|i94res           |residence_country_code|integer |Residence Country Code                                    |\n",
      "|i94port          |port_id               |string  |Port Identity Code                                        |\n",
      "|arrdate          |arrival_date          |integer |Arrival Date in the USA. It is a SAS date numeric field   |\n",
      "|i94mode          |travel_mode           |integer |Mode of travel to US                                      |\n",
      "|i94addr          |state_code            |string  |Address in US after VISA                                  |\n",
      "|depdate          |departure_date        |integer |Departure Date from the USA                               |\n",
      "|i94bir           |age                   |integer |Age of the immigrant                                      |\n",
      "|i94visa          |visa_code             |integer |Visa codes                                                |\n",
      "|count            |count                 |integer |Used for summary statistics                               |\n",
      "|dtadfile         |fileadd_date          |string  |Character Date Field - Date added to I-94 Files           |\n",
      "|visapost         |visapost              |string  |Department of State where where Visa was issued           |\n",
      "|occup            |occupation            |string  |Current occupation of the Immigrant                       |\n",
      "|entdepa          |arrival_flag          |string  |Arrival Flag - admitted or paroled into the U.S.          |\n",
      "|entdepd          |departure_flag        |string  |Departure Flag - Departed, lost I-94 or is deceased       |\n",
      "|entdepu          |update_flag           |string  |Either apprehended, overstayed, adjusted to perm residence|\n",
      "|matflag          |match_flag            |string  |Match of arrival and departure records                    |\n",
      "+-----------------+----------------------+--------+----------------------------------------------------------+\n",
      "only showing top 20 rows\n",
      "\n"
     ]
    }
   ],
   "source": [
    "#Data Dictionary for Immigration Data\n",
    "\n",
    "immigration_column_dictionary =  [['cicid','immigrant_id','integer','Immigrant ID'],\n",
    "                                  ['i94yr','year','integer','4 digit year'],\n",
    "                                  ['i94mon','month','integer','Numeric month'],\n",
    "                                  ['i94cit','origin_country_code','integer','Origin Country Code'],\n",
    "                                  ['i94res','residence_country_code','integer','Residence Country Code'],\n",
    "                                  ['i94port','port_id','string','Port Identity Code'],\n",
    "                                  ['arrdate','arrival_date','integer','Arrival Date in the USA. It is a SAS date numeric field'],\n",
    "                                  ['i94mode','travel_mode','integer','Mode of travel to US'],\n",
    "                                  ['i94addr','state_code','string','Address in US after VISA'],\n",
    "                                  ['depdate','departure_date','integer','Departure Date from the USA'],\n",
    "                                  ['i94bir','age','integer','Age of the immigrant'],\n",
    "                                  ['i94visa','visa_code','integer','Visa codes'],\n",
    "                                  ['count','count','integer','Used for summary statistics '],\n",
    "                                  ['dtadfile','fileadd_date','string','Character Date Field - Date added to I-94 Files'],\n",
    "                                  ['visapost','visapost','string','Department of State where where Visa was issued'],\n",
    "                                  ['occup','occupation','string','Current occupation of the Immigrant'],\n",
    "                                  ['entdepa','arrival_flag','string','Arrival Flag - admitted or paroled into the U.S.'],\n",
    "                                  ['entdepd','departure_flag','string','Departure Flag - Departed, lost I-94 or is deceased'],\n",
    "                                  ['entdepu','update_flag','string','Either apprehended, overstayed, adjusted to perm residence'],\n",
    "                                  ['matflag','match_flag','string','Match of arrival and departure records'],\n",
    "                                  ['biryear','birthyear','integer','4 digit year of birth'],\n",
    "                                  ['dtaddto','admission_date','string','Character Date Field - Date to which admitted to U.S. (allowed to stay until)'],\n",
    "                                  ['gender','gender','string','Non-immigrant sex'],\n",
    "                                  ['insnum','ins_no','integer','INS number'],\n",
    "                                  ['airline','airline','string','Airline used to arrive in U.S'],\n",
    "                                  ['admnum','admission_no','string','Admission Number'],\n",
    "                                  ['fltno','flight_no','integer','Flight number of Airline used to arrive in U.S'],\n",
    "                                  ['visatype','visatype','string','Class of admission legally admitting the non-immigrant to temporarily stay in U.S.']]\n",
    "\n",
    "headers = ['OriginalAttribute','RenamedAttribute','DataType','Description']\n",
    "immigrant_data_dictionary = spark.createDataFrame(data=immigration_column_dictionary, schema = headers)\n",
    "immigrant_data_dictionary.show(truncate=False)"
   ]
  },
  {
   "cell_type": "markdown",
   "metadata": {
    "application/vnd.databricks.v1+cell": {
     "inputWidgets": {},
     "nuid": "649b9a13-ff8a-41f3-b8f6-b3ea4fa937dd",
     "showTitle": false,
     "title": ""
    },
    "editable": true
   },
   "source": [
    "- ###### Renaming and casting existing attributes"
   ]
  },
  {
   "cell_type": "code",
   "execution_count": 176,
   "metadata": {
    "application/vnd.databricks.v1+cell": {
     "inputWidgets": {},
     "nuid": "299da334-3f8c-484d-87d2-fd6554028e89",
     "showTitle": false,
     "title": ""
    },
    "editable": true
   },
   "outputs": [
    {
     "name": "stdout",
     "output_type": "stream",
     "text": [
      "+------------+----+-----+-------------------+----------------------+-------+------------+-----------+----------+--------------+---+---------+-----+------------+--------+----------+------------+--------------+-----------+----------+---------+--------------+------+------+-------+-------------+---------+--------+\n",
      "|immigrant_id|year|month|origin_country_code|residence_country_code|port_id|arrival_date|travel_mode|state_code|departure_date|age|visa_code|count|fileadd_date|visapost|occupation|arrival_flag|departure_flag|update_flag|match_flag|birthyear|admission_date|gender|ins_no|airline| admission_no|flight_no|visatype|\n",
      "+------------+----+-----+-------------------+----------------------+-------+------------+-----------+----------+--------------+---+---------+-----+------------+--------+----------+------------+--------------+-----------+----------+---------+--------------+------+------+-------+-------------+---------+--------+\n",
      "|     4084316|2016|    4|                209|                   209|    HHW|       20566|          1|        HI|         20573| 61|        2|    1|    20160422|    null|      null|           G|             O|       null|         M|     1955|      07202016|     F|  null|     JL|56582674633.0|      782|      WT|\n",
      "|     4422636|2016|    4|                582|                   582|    MCA|       20567|          1|        TX|         20568| 26|        2|    1|    20160423|     MTR|      null|           G|             R|       null|         M|     1990|      10222016|     M|  null|    *GA|94361995930.0|     null|      B2|\n",
      "|     1195600|2016|    4|                148|                   112|    OGG|       20551|          1|        FL|         20571| 76|        2|    1|    20160407|    null|      null|           G|             O|       null|         M|     1940|      07052016|     M|  null|     LH|55780468433.0|      464|      WT|\n",
      "|     5291768|2016|    4|                297|                   297|    LOS|       20572|          1|        CA|         20581| 25|        2|    1|    20160428|     DOH|      null|           G|             O|       null|         M|     1991|      10272016|     M|  null|     QR|94789696030.0|      739|      B2|\n",
      "|      985523|2016|    4|                111|                   111|    CHM|       20550|          3|        NY|         20553| 19|        2|    1|    20160406|    null|      null|           Z|             K|       null|         M|     1997|      07042016|     F|  null|   null|42322572633.0|     null|      WT|\n",
      "+------------+----+-----+-------------------+----------------------+-------+------------+-----------+----------+--------------+---+---------+-----+------------+--------+----------+------------+--------------+-----------+----------+---------+--------------+------+------+-------+-------------+---------+--------+\n",
      "only showing top 5 rows\n",
      "\n"
     ]
    }
   ],
   "source": [
    "#Using the user defined function in utility.py renaming and casting the existing datasource\n",
    "\n",
    "try:\n",
    "    immigration_renamed = renameAndcast(immigration_data,immigration_column_dictionary)\n",
    "    immigration_renamed.show(5)\n",
    "except Exception as e:\n",
    "    logger.error(\"Error while renaming and casting Immigraion data\")\n",
    "    print(e)"
   ]
  },
  {
   "cell_type": "markdown",
   "metadata": {
    "application/vnd.databricks.v1+cell": {
     "inputWidgets": {},
     "nuid": "848a4bab-80e0-4a36-bf4b-2c9cc6b467cc",
     "showTitle": false,
     "title": ""
    },
    "editable": true
   },
   "source": [
    "- ###### Visualize Null values for each columns and drop columns with more than 90% null"
   ]
  },
  {
   "cell_type": "code",
   "execution_count": 177,
   "metadata": {
    "application/vnd.databricks.v1+cell": {
     "inputWidgets": {},
     "nuid": "ffdae460-5349-4fd8-bf0b-1d539c34fd42",
     "showTitle": false,
     "title": ""
    },
    "editable": true
   },
   "outputs": [
    {
     "data": {
      "image/png": "[encoded data removed]",
      "text/plain": [
       "<matplotlib.figure.Figure at 0x7f5ec5d8d8d0>"
      ]
     },
     "metadata": {
      "needs_background": "light"
     },
     "output_type": "display_data"
    }
   ],
   "source": [
    "#Visualize columns only having null percentage > 30%\n",
    "visualize_nullColumns(immigration_renamed,10000,30)"
   ]
  },
  {
   "cell_type": "code",
   "execution_count": 178,
   "metadata": {
    "application/vnd.databricks.v1+cell": {
     "inputWidgets": {},
     "nuid": "c79217e7-4c7f-452c-a423-5a85fcf903f7",
     "showTitle": false,
     "title": ""
    },
    "editable": true
   },
   "outputs": [],
   "source": [
    "#Dropping fields with missing values more than 90%\n",
    "immigration_renamed = immigration_renamed.drop(*['occupation','update_flag','ins_no'])"
   ]
  },
  {
   "cell_type": "markdown",
   "metadata": {
    "application/vnd.databricks.v1+cell": {
     "inputWidgets": {},
     "nuid": "99b70ba4-cd6b-47ab-bffe-5f1a6da011b6",
     "showTitle": false,
     "title": ""
    },
    "editable": true
   },
   "source": [
    "- ###### Casting SAS numeric date format to datetime format\n",
    "- ###### Casting `admission_date`,`fileadd_date` fileds frrom character date field to datetime.</br>`admission_date` attribute have some values like 'D/S' or date is not in proper format, converting those values as null.\n",
    "\n",
    "- ###### Drop duplicates if any"
   ]
  },
  {
   "cell_type": "code",
   "execution_count": 179,
   "metadata": {
    "application/vnd.databricks.v1+cell": {
     "inputWidgets": {},
     "nuid": "843c1463-42a8-4e87-b0f4-8e42a0cf9f71",
     "showTitle": false,
     "title": ""
    },
    "editable": true
   },
   "outputs": [],
   "source": [
    "#SAS date to datetime\n",
    "immigration_cleansed = sasTodatetime(immigration_renamed,['arrival_date','departure_date'])\n",
    "\n",
    "#Character date to datetime \n",
    "immigration_cleansed = immigration_cleansed.withColumn('fileadd_date',F.to_date('fileadd_date','yyyyMMdd'))\\\n",
    "                                           .withColumn('admission_date',F.to_date('admission_date','MMddyyyy'))\n",
    "\n",
    "immigration_cleansed = immigration_cleansed.dropDuplicates(['immigrant_id'])"
   ]
  },
  {
   "cell_type": "code",
   "execution_count": 180,
   "metadata": {
    "application/vnd.databricks.v1+cell": {
     "inputWidgets": {},
     "nuid": "b517893f-08e8-4e3e-bd2a-017bf101641e",
     "showTitle": false,
     "title": ""
    },
    "editable": true
   },
   "outputs": [
    {
     "name": "stdout",
     "output_type": "stream",
     "text": [
      "+------------+----+-----+-------------------+----------------------+-------+------------+-----------+----------+--------------+---+---------+-----+------------+--------+------------+--------------+----------+---------+--------------+------+-------+-------------+---------+--------+\n",
      "|immigrant_id|year|month|origin_country_code|residence_country_code|port_id|arrival_date|travel_mode|state_code|departure_date|age|visa_code|count|fileadd_date|visapost|arrival_flag|departure_flag|match_flag|birthyear|admission_date|gender|airline| admission_no|flight_no|visatype|\n",
      "+------------+----+-----+-------------------+----------------------+-------+------------+-----------+----------+--------------+---+---------+-----+------------+--------+------------+--------------+----------+---------+--------------+------+-------+-------------+---------+--------+\n",
      "|      243257|2016|    4|                130|                   130|    PHO|  2016-04-02|          1|        NY|    2016-04-07| 44|        2|    1|  2016-04-02|    null|           G|             O|         M|     1972|    2016-06-30|     F|     DL|55475571333.0|       47|      WT|\n",
      "|      289649|2016|    4|                245|                   245|    DET|  2016-04-02|          1|        GA|    2016-04-11| 59|        2|    1|  2016-04-02|     GUZ|           G|             O|         M|     1957|    2016-10-01|     M|     DL|92567520030.0|      582|      B2|\n",
      "|     1498315|2016|    4|                582|                   582|    SEA|  2016-04-08|          1|        FL|    2016-04-16| 40|        2|    1|  2016-04-08|     MEX|           G|             O|         M|     1976|    2016-10-07|     F|     Y4|93030173630.0|      976|      B2|\n",
      "|     2305457|2016|    4|                104|                   104|    SFR|  2016-04-13|          1|        CA|    2016-04-21| 42|        1|    1|  2016-04-13|    null|           G|             O|         M|     1974|    2016-07-11|     M|     KL|56089932333.0|      605|      WB|\n",
      "|     4702607|2016|    4|                135|                   135|    ORL|  2016-04-25|          1|        FL|    2016-04-28| 49|        2|    1|  2016-04-25|    null|           O|             O|         M|     1967|    2016-07-23|  null|     BA|59255771833.0|     2037|      WT|\n",
      "|     4756602|2016|    4|                520|                   520|    MIA|  2016-04-25|          1|        AL|    2016-06-21|  5|        2|    1|  2016-04-25|     BGN|           G|             O|         M|     2011|    2016-10-24|     F|     AA|94500896530.0|      982|      B2|\n",
      "|       80898|2016|    4|                261|                   261|    DET|  2016-04-01|          1|        AR|    2016-04-16| 29|        2|    1|  2016-04-01|     RID|           G|             O|         M|     1987|    2016-09-30|     M|     AA|92472373730.0|       51|      B2|\n",
      "|      852702|2016|    4|                148|                   112|    DAL|  2016-04-05|          1|        CA|    2016-05-10| 57|        2|    1|  2016-04-05|    null|           O|             N|         M|     1959|    2016-07-03|  null|     LH|55682352033.0|      452|      WT|\n",
      "|     2023167|2016|    4|                209|                   209|    HHW|  2016-04-11|          1|        HI|    2016-04-15| 26|        2|    1|  2016-04-11|    null|           G|             O|         M|     1990|    2016-07-09|     M|     HA|56013293533.0|      458|      WT|\n",
      "|     2615091|2016|    4|                577|                   577|    MIA|  2016-04-14|          1|        FL|    2016-05-05| 56|        2|    1|  2016-04-14|     GTM|           G|             O|         M|     1960|    2016-10-13|     F|     AV|93508720330.0|      342|      B2|\n",
      "+------------+----+-----+-------------------+----------------------+-------+------------+-----------+----------+--------------+---+---------+-----+------------+--------+------------+--------------+----------+---------+--------------+------+-------+-------------+---------+--------+\n",
      "only showing top 10 rows\n",
      "\n"
     ]
    }
   ],
   "source": [
    "immigration_cleansed.show(10)"
   ]
  },
  {
   "cell_type": "markdown",
   "metadata": {
    "application/vnd.databricks.v1+cell": {
     "inputWidgets": {},
     "nuid": "ee2963cd-941f-432a-8615-f69ffcf00f7c",
     "showTitle": false,
     "title": ""
    },
    "editable": true
   },
   "source": [
    "- ###### Schema"
   ]
  },
  {
   "cell_type": "code",
   "execution_count": 181,
   "metadata": {
    "application/vnd.databricks.v1+cell": {
     "inputWidgets": {},
     "nuid": "016c97cf-add4-43c5-bdd1-a63ab9c7aef6",
     "showTitle": false,
     "title": ""
    },
    "editable": true
   },
   "outputs": [
    {
     "name": "stdout",
     "output_type": "stream",
     "text": [
      "root\n",
      " |-- immigrant_id: integer (nullable = true)\n",
      " |-- year: integer (nullable = true)\n",
      " |-- month: integer (nullable = true)\n",
      " |-- origin_country_code: integer (nullable = true)\n",
      " |-- residence_country_code: integer (nullable = true)\n",
      " |-- port_id: string (nullable = true)\n",
      " |-- arrival_date: date (nullable = true)\n",
      " |-- travel_mode: integer (nullable = true)\n",
      " |-- state_code: string (nullable = true)\n",
      " |-- departure_date: date (nullable = true)\n",
      " |-- age: integer (nullable = true)\n",
      " |-- visa_code: integer (nullable = true)\n",
      " |-- count: integer (nullable = true)\n",
      " |-- fileadd_date: date (nullable = true)\n",
      " |-- visapost: string (nullable = true)\n",
      " |-- arrival_flag: string (nullable = true)\n",
      " |-- departure_flag: string (nullable = true)\n",
      " |-- match_flag: string (nullable = true)\n",
      " |-- birthyear: integer (nullable = true)\n",
      " |-- admission_date: date (nullable = true)\n",
      " |-- gender: string (nullable = true)\n",
      " |-- airline: string (nullable = true)\n",
      " |-- admission_no: string (nullable = true)\n",
      " |-- flight_no: integer (nullable = true)\n",
      " |-- visatype: string (nullable = true)\n",
      "\n"
     ]
    }
   ],
   "source": [
    "immigration_cleansed.printSchema()"
   ]
  },
  {
   "cell_type": "markdown",
   "metadata": {
    "application/vnd.databricks.v1+cell": {
     "inputWidgets": {},
     "nuid": "ff638eb7-2a3a-4ea9-aa6c-eba46b74bc88",
     "showTitle": false,
     "title": ""
    },
    "editable": true
   },
   "source": [
    "####   **World Temperature Data:**"
   ]
  },
  {
   "cell_type": "markdown",
   "metadata": {
    "application/vnd.databricks.v1+cell": {
     "inputWidgets": {},
     "nuid": "0c3e06e2-b0b0-45a4-950d-1c453959cdac",
     "showTitle": false,
     "title": ""
    },
    "editable": true
   },
   "source": [
    "- ###### Temperature Data Dictionary"
   ]
  },
  {
   "cell_type": "code",
   "execution_count": 182,
   "metadata": {
    "application/vnd.databricks.v1+cell": {
     "inputWidgets": {},
     "nuid": "ead83db8-64d9-4002-a941-5410d9f2402b",
     "showTitle": false,
     "title": ""
    },
    "editable": true
   },
   "outputs": [
    {
     "name": "stdout",
     "output_type": "stream",
     "text": [
      "+-----------------------------+---------------------------+--------+----------------------------------------------+\n",
      "|OriginalAttribute            |RenamedAttribute           |DataType|Description                                   |\n",
      "+-----------------------------+---------------------------+--------+----------------------------------------------+\n",
      "|dt                           |date                       |date    |Date at temperature record captured           |\n",
      "|AverageTemperature           |avg_temperature            |double  |Global average land temperature in celsius    |\n",
      "|AverageTemperatureUncertainty|avg_temperature_uncertainty|double  |The 95% confidence interval around the average|\n",
      "|City                         |city                       |string  |City Name                                     |\n",
      "|Country                      |country                    |string  |Country Name                                  |\n",
      "|Latitude                     |latitude                   |string  |Latitude of location                          |\n",
      "|Longitude                    |longitude                  |string  |Longitude of location                         |\n",
      "+-----------------------------+---------------------------+--------+----------------------------------------------+\n",
      "\n"
     ]
    }
   ],
   "source": [
    "#Data Dictionary for Immigration Data\n",
    "\n",
    "temperature_column_dictionary =  [['dt','date','date','Date at temperature record captured'],\n",
    "                                  ['AverageTemperature','avg_temperature','double','Global average land temperature in celsius'],\n",
    "                                  ['AverageTemperatureUncertainty','avg_temperature_uncertainty','double','The 95% confidence interval around the average'],\n",
    "                                  ['City','city','string','City Name'],\n",
    "                                  ['Country','country','string','Country Name'],\n",
    "                                  ['Latitude','latitude','string','Latitude of location'],\n",
    "                                  ['Longitude','longitude','string','Longitude of location']]\n",
    "\n",
    "headers = ['OriginalAttribute','RenamedAttribute','DataType','Description']\n",
    "temperature_data_dictionary = spark.createDataFrame(data=temperature_column_dictionary, schema = headers)\n",
    "temperature_data_dictionary.show(truncate=False)"
   ]
  },
  {
   "cell_type": "markdown",
   "metadata": {
    "application/vnd.databricks.v1+cell": {
     "inputWidgets": {},
     "nuid": "c032b1be-bbac-4309-8966-048ca243b52b",
     "showTitle": false,
     "title": ""
    },
    "editable": true
   },
   "source": [
    "- ###### Renaming and casting existing attributes"
   ]
  },
  {
   "cell_type": "code",
   "execution_count": 206,
   "metadata": {
    "application/vnd.databricks.v1+cell": {
     "inputWidgets": {},
     "nuid": "20efb85b-0095-4ca4-9086-371049804793",
     "showTitle": false,
     "title": ""
    },
    "editable": true
   },
   "outputs": [
    {
     "name": "stdout",
     "output_type": "stream",
     "text": [
      "+----------+---------------+---------------------------+-------+----------+--------+---------+\n",
      "|      date|avg_temperature|avg_temperature_uncertainty|   city|   country|latitude|longitude|\n",
      "+----------+---------------+---------------------------+-------+----------+--------+---------+\n",
      "|2001-01-01|         17.908|                      0.371|Barisal|Bangladesh|  23.31N|   90.00E|\n",
      "|2001-02-01|         22.152|                      0.326|Barisal|Bangladesh|  23.31N|   90.00E|\n",
      "|2001-03-01|         26.311|                      0.234|Barisal|Bangladesh|  23.31N|   90.00E|\n",
      "|2001-04-01|         29.019|                      0.138|Barisal|Bangladesh|  23.31N|   90.00E|\n",
      "|2001-05-01|          28.15|                      0.218|Barisal|Bangladesh|  23.31N|   90.00E|\n",
      "+----------+---------------+---------------------------+-------+----------+--------+---------+\n",
      "only showing top 5 rows\n",
      "\n"
     ]
    }
   ],
   "source": [
    "#Using the user defined function in utility.py renaming and casting the existing datasource\n",
    "try:\n",
    "    temperature_renamed = renameAndcast(temperature_data,temperature_column_dictionary).filter(F.col('date')>'2000-12-31')\n",
    "                                    \n",
    "    temperature_renamed.show(5)\n",
    "\n",
    "except Exception as e:\n",
    "    logger.error(\"Error while renaming and casting Tempearture data\")\n",
    "    print(e)"
   ]
  },
  {
   "cell_type": "markdown",
   "metadata": {
    "application/vnd.databricks.v1+cell": {
     "inputWidgets": {},
     "nuid": "7de96ca5-ef29-4912-850a-b9ee59332c57",
     "showTitle": false,
     "title": ""
    },
    "editable": true
   },
   "source": [
    "- ###### Visualize Null values for each columns and drop columns with more than 90% null"
   ]
  },
  {
   "cell_type": "code",
   "execution_count": 185,
   "metadata": {
    "application/vnd.databricks.v1+cell": {
     "inputWidgets": {},
     "nuid": "fc65e9ea-5d5f-45c4-ac6f-717f20e3eeec",
     "showTitle": false,
     "title": ""
    },
    "editable": true
   },
   "outputs": [
    {
     "data": {
      "image/png": "[encoded data removed]",
      "text/plain": [
       "<matplotlib.figure.Figure at 0x7f5ec5a81f98>"
      ]
     },
     "metadata": {
      "needs_background": "light"
     },
     "output_type": "display_data"
    }
   ],
   "source": [
    "#Visualize columns only having null percentage > 10%\n",
    "visualize_nullColumns(temperature_renamed,10000,1)"
   ]
  },
  {
   "cell_type": "markdown",
   "metadata": {
    "application/vnd.databricks.v1+cell": {
     "inputWidgets": {},
     "nuid": "53adbe3f-913f-4cea-8186-0b36fa1e8733",
     "showTitle": false,
     "title": ""
    },
    "editable": true
   },
   "source": [
    "- ###### Drop duplicates if any"
   ]
  },
  {
   "cell_type": "code",
   "execution_count": 186,
   "metadata": {
    "application/vnd.databricks.v1+cell": {
     "inputWidgets": {},
     "nuid": "dd2bb183-110f-4dcc-9258-3acaf20ecda8",
     "showTitle": false,
     "title": ""
    },
    "editable": true
   },
   "outputs": [],
   "source": [
    "temperature_cleansed = temperature_renamed.dropDuplicates(['date','city'])"
   ]
  },
  {
   "cell_type": "markdown",
   "metadata": {
    "application/vnd.databricks.v1+cell": {
     "inputWidgets": {},
     "nuid": "540df94f-0ab8-4f9a-b404-d8ce82447ebd",
     "showTitle": false,
     "title": ""
    },
    "editable": true
   },
   "source": [
    "- ###### Schema"
   ]
  },
  {
   "cell_type": "code",
   "execution_count": 187,
   "metadata": {
    "application/vnd.databricks.v1+cell": {
     "inputWidgets": {},
     "nuid": "a5a06124-5cc6-4744-86a3-a0c66acab1b4",
     "showTitle": false,
     "title": ""
    },
    "editable": true
   },
   "outputs": [
    {
     "name": "stdout",
     "output_type": "stream",
     "text": [
      "root\n",
      " |-- date: date (nullable = true)\n",
      " |-- avg_temperature: double (nullable = true)\n",
      " |-- avg_temperature_uncertainty: double (nullable = true)\n",
      " |-- city: string (nullable = true)\n",
      " |-- country: string (nullable = true)\n",
      " |-- latitude: string (nullable = true)\n",
      " |-- longitude: string (nullable = true)\n",
      "\n"
     ]
    }
   ],
   "source": [
    "temperature_cleansed.printSchema()"
   ]
  },
  {
   "cell_type": "markdown",
   "metadata": {
    "application/vnd.databricks.v1+cell": {
     "inputWidgets": {},
     "nuid": "cde37c83-6a78-4b01-bb51-a088f8c75e5b",
     "showTitle": false,
     "title": ""
    },
    "editable": true
   },
   "source": [
    "####   **U.S. City Demographic Data:**"
   ]
  },
  {
   "cell_type": "markdown",
   "metadata": {
    "application/vnd.databricks.v1+cell": {
     "inputWidgets": {},
     "nuid": "52a76893-6abd-49fb-b8b8-132ab559f95e",
     "showTitle": false,
     "title": ""
    },
    "editable": true
   },
   "source": [
    "- ###### City Data Dictionary"
   ]
  },
  {
   "cell_type": "code",
   "execution_count": 188,
   "metadata": {
    "application/vnd.databricks.v1+cell": {
     "inputWidgets": {},
     "nuid": "7b386578-82e8-4f0f-8e02-737c18ac76be",
     "showTitle": false,
     "title": ""
    },
    "editable": true
   },
   "outputs": [
    {
     "name": "stdout",
     "output_type": "stream",
     "text": [
      "+----------------------+------------------+--------+-----------------------------------+\n",
      "|OriginalAttribute     |RenamedAttribute  |DataType|Description                        |\n",
      "+----------------------+------------------+--------+-----------------------------------+\n",
      "|City                  |city              |string  |City Name                          |\n",
      "|State                 |state             |string  |US State where city is located     |\n",
      "|Median Age            |median_age        |double  |Median age of the city             |\n",
      "|Male Population       |male_population   |long    |Male Population                    |\n",
      "|Female Population     |female_population |long    |Female Population                  |\n",
      "|Total Population      |total_population  |long    |Total Population                   |\n",
      "|Number of Veterans    |veteran_population|long    |Number of Veterans                 |\n",
      "|Foreign-born          |foreigner_born    |long    |No of foreigners born in tyhe city |\n",
      "|Average Household Size|avg_household_size|double  |Average Household Size             |\n",
      "|State Code            |state_code        |string  |Code of the US state               |\n",
      "|Race                  |race              |string  |Respondent race                    |\n",
      "|Count                 |count             |long    |Count of city's individual per race|\n",
      "+----------------------+------------------+--------+-----------------------------------+\n",
      "\n"
     ]
    }
   ],
   "source": [
    "#Data Dictionary for Immigration Data\n",
    "\n",
    "city_column_dictionary = [['City','city','string','City Name'],\n",
    "                          ['State','state','string','US State where city is located'],\n",
    "                          ['Median Age','median_age','double','Median age of the city'],\n",
    "                          ['Male Population','male_population','long','Male Population'],\n",
    "                          ['Female Population','female_population','long','Female Population'],\n",
    "                          ['Total Population','total_population','long','Total Population'],\n",
    "                          ['Number of Veterans','veteran_population','long','Number of Veterans'],\n",
    "                          ['Foreign-born','foreigner_born','long','No of foreigners born in tyhe city'],\n",
    "                          ['Average Household Size','avg_household_size','double','Average Household Size'],\n",
    "                          ['State Code','state_code','string','Code of the US state'],\n",
    "                          ['Race','race','string','Respondent race'],\n",
    "                          ['Count','count','long','Count of city\\'s individual per race']]\n",
    "\n",
    "headers = ['OriginalAttribute','RenamedAttribute','DataType','Description']\n",
    "city_data_dictionary = spark.createDataFrame(data=city_column_dictionary, schema = headers)\n",
    "city_data_dictionary.show(truncate=False)"
   ]
  },
  {
   "cell_type": "code",
   "execution_count": 189,
   "metadata": {
    "application/vnd.databricks.v1+cell": {
     "inputWidgets": {},
     "nuid": "70b72a1b-bcc1-499c-aca5-8549bd29fe2e",
     "showTitle": false,
     "title": ""
    },
    "editable": true
   },
   "outputs": [
    {
     "name": "stdout",
     "output_type": "stream",
     "text": [
      "+----------------+-------------+----------+---------------+-----------------+----------------+------------------+--------------+------------------+----------+--------------------+-----+\n",
      "|            city|        state|median_age|male_population|female_population|total_population|veteran_population|foreigner_born|avg_household_size|state_code|                race|count|\n",
      "+----------------+-------------+----------+---------------+-----------------+----------------+------------------+--------------+------------------+----------+--------------------+-----+\n",
      "|   Silver Spring|     Maryland|      33.8|          40601|            41862|           82463|              1562|         30908|               2.6|        MD|  Hispanic or Latino|25924|\n",
      "|          Quincy|Massachusetts|      41.0|          44129|            49500|           93629|              4147|         32935|              2.39|        MA|               White|58723|\n",
      "|          Hoover|      Alabama|      38.5|          38040|            46799|           84839|              4819|          8229|              2.58|        AL|               Asian| 4759|\n",
      "|Rancho Cucamonga|   California|      34.5|          88127|            87105|          175232|              5821|         33878|              3.18|        CA|Black or African-...|24437|\n",
      "|          Newark|   New Jersey|      34.6|         138040|           143873|          281913|              5829|         86253|              2.73|        NJ|               White|76402|\n",
      "+----------------+-------------+----------+---------------+-----------------+----------------+------------------+--------------+------------------+----------+--------------------+-----+\n",
      "only showing top 5 rows\n",
      "\n"
     ]
    }
   ],
   "source": [
    "#Using the user defined function in utility.py renaming and casting the existing datasource\n",
    "try:\n",
    "    city_data_renamed = renameAndcast(us_city_data,city_column_dictionary)\n",
    "    city_data_renamed.show(5)\n",
    "except Exception as e:\n",
    "    logger.error(\"Error while renaming and casting City data\")\n",
    "    print(e)"
   ]
  },
  {
   "cell_type": "markdown",
   "metadata": {
    "application/vnd.databricks.v1+cell": {
     "inputWidgets": {},
     "nuid": "84688a78-fd45-40f7-8062-d0e5cf5c4115",
     "showTitle": false,
     "title": ""
    },
    "editable": true
   },
   "source": [
    "- ###### Visualize Null values for each columns and drop columns with more than 90% null"
   ]
  },
  {
   "cell_type": "code",
   "execution_count": 190,
   "metadata": {
    "application/vnd.databricks.v1+cell": {
     "inputWidgets": {},
     "nuid": "828860b2-4f3e-4047-af05-7e551b8f8171",
     "showTitle": false,
     "title": ""
    },
    "editable": true
   },
   "outputs": [
    {
     "data": {
      "image/png": "[encoded data removed]",
      "text/plain": [
       "<matplotlib.figure.Figure at 0x7f5ec59dcba8>"
      ]
     },
     "metadata": {
      "needs_background": "light"
     },
     "output_type": "display_data"
    }
   ],
   "source": [
    "#Visualize columns only having null percentage > 0\n",
    "visualize_nullColumns(city_data_renamed,100000,0)"
   ]
  },
  {
   "cell_type": "markdown",
   "metadata": {
    "application/vnd.databricks.v1+cell": {
     "inputWidgets": {},
     "nuid": "6aee17f5-0828-4bb2-b96e-b7884ee146b2",
     "showTitle": false,
     "title": ""
    },
    "editable": true
   },
   "source": [
    "- ###### Drop duplicates if any"
   ]
  },
  {
   "cell_type": "code",
   "execution_count": 191,
   "metadata": {
    "application/vnd.databricks.v1+cell": {
     "inputWidgets": {},
     "nuid": "f5ea0f10-be54-4bde-895d-b6ef6ccf1564",
     "showTitle": false,
     "title": ""
    },
    "editable": true
   },
   "outputs": [],
   "source": [
    "city_data_cleansed = city_data_renamed.dropDuplicates(['city'])"
   ]
  },
  {
   "cell_type": "markdown",
   "metadata": {
    "application/vnd.databricks.v1+cell": {
     "inputWidgets": {},
     "nuid": "aff343d9-994a-40f9-add0-cf1060ee7f49",
     "showTitle": false,
     "title": ""
    },
    "editable": true
   },
   "source": [
    "- ###### Schema"
   ]
  },
  {
   "cell_type": "code",
   "execution_count": 192,
   "metadata": {
    "application/vnd.databricks.v1+cell": {
     "inputWidgets": {},
     "nuid": "91baeee4-efc4-44ae-82fd-9741fb3d10b1",
     "showTitle": false,
     "title": ""
    },
    "editable": true
   },
   "outputs": [
    {
     "name": "stdout",
     "output_type": "stream",
     "text": [
      "root\n",
      " |-- city: string (nullable = true)\n",
      " |-- state: string (nullable = true)\n",
      " |-- median_age: double (nullable = true)\n",
      " |-- male_population: long (nullable = true)\n",
      " |-- female_population: long (nullable = true)\n",
      " |-- total_population: long (nullable = true)\n",
      " |-- veteran_population: long (nullable = true)\n",
      " |-- foreigner_born: long (nullable = true)\n",
      " |-- avg_household_size: double (nullable = true)\n",
      " |-- state_code: string (nullable = true)\n",
      " |-- race: string (nullable = true)\n",
      " |-- count: long (nullable = true)\n",
      "\n"
     ]
    }
   ],
   "source": [
    "city_data_cleansed.printSchema()"
   ]
  },
  {
   "cell_type": "markdown",
   "metadata": {
    "application/vnd.databricks.v1+cell": {
     "inputWidgets": {},
     "nuid": "207a1022-18d5-4416-84d2-ee94706cd068",
     "showTitle": false,
     "title": ""
    },
    "editable": true
   },
   "source": [
    "####   **ISO Country Codes:**"
   ]
  },
  {
   "cell_type": "code",
   "execution_count": 193,
   "metadata": {
    "application/vnd.databricks.v1+cell": {
     "inputWidgets": {},
     "nuid": "af5bc257-ebe7-4c23-becc-7637cf09b015",
     "showTitle": false,
     "title": ""
    },
    "editable": true
   },
   "outputs": [
    {
     "name": "stdout",
     "output_type": "stream",
     "text": [
      "+-----------------------------+----------------+--------+------------------------------+\n",
      "|OriginalAttribute            |RenamedAttribute|DataType|Description                   |\n",
      "+-----------------------------+----------------+--------+------------------------------+\n",
      "|English short name lower case|country_name    |string  |Country Name                  |\n",
      "|Alpha-2 code                 |alpha2_code     |string  |US State where city is located|\n",
      "|Alpha-3 code                 |alpha3_code     |string  |Median age of the city        |\n",
      "|Numeric code                 |country_code    |integer |Male Population               |\n",
      "+-----------------------------+----------------+--------+------------------------------+\n",
      "\n"
     ]
    }
   ],
   "source": [
    "#Data Dictionary for Immigration Data\n",
    "\n",
    "country_column_dictionary = [['English short name lower case','country_name','string','Country Name'],\n",
    "                             ['Alpha-2 code','alpha2_code','string','US State where city is located'],\n",
    "                             ['Alpha-3 code','alpha3_code','string','Median age of the city'],\n",
    "                             ['Numeric code','country_code','integer','Male Population']]\n",
    "\n",
    "headers = ['OriginalAttribute','RenamedAttribute','DataType','Description']\n",
    "country_data_dictionary = spark.createDataFrame(data=country_column_dictionary, schema = headers)\n",
    "country_data_dictionary.show(truncate=False)"
   ]
  },
  {
   "cell_type": "code",
   "execution_count": 194,
   "metadata": {
    "application/vnd.databricks.v1+cell": {
     "inputWidgets": {},
     "nuid": "0f8a755d-04e1-46c4-b275-2b93b302bdfa",
     "showTitle": false,
     "title": ""
    },
    "editable": true
   },
   "outputs": [
    {
     "name": "stdout",
     "output_type": "stream",
     "text": [
      "+-----------------+-----------+-----------+------------+\n",
      "|     country_name|alpha2_code|alpha3_code|country_code|\n",
      "+-----------------+-----------+-----------+------------+\n",
      "|         Zimbabwe|         ZW|        ZWE|         716|\n",
      "|           Zambia|         ZM|        ZMB|         894|\n",
      "|            Yemen|         YE|        YEM|         887|\n",
      "|   Western Sahara|         EH|        ESH|         732|\n",
      "|Wallis and Futuna|         WF|        WLF|         876|\n",
      "+-----------------+-----------+-----------+------------+\n",
      "only showing top 5 rows\n",
      "\n"
     ]
    }
   ],
   "source": [
    "#Using the user defined function in utility.py renaming and casting the existing datasource\n",
    "try:\n",
    "    country_data_renamed = renameAndcast(country_code_data,country_column_dictionary)\n",
    "    country_data_renamed.show(5)\n",
    "except Exception as e:\n",
    "    logger.error(\"Error while renaming and casting Country data\")\n",
    "    print(e)"
   ]
  },
  {
   "cell_type": "markdown",
   "metadata": {
    "application/vnd.databricks.v1+cell": {
     "inputWidgets": {},
     "nuid": "f4974b4a-41fd-4927-8c98-17945b24252a",
     "showTitle": false,
     "title": ""
    },
    "editable": true
   },
   "source": [
    "- ###### Visualize Null values for each columns and drop columns with more than 90% null"
   ]
  },
  {
   "cell_type": "code",
   "execution_count": 195,
   "metadata": {
    "application/vnd.databricks.v1+cell": {
     "inputWidgets": {},
     "nuid": "fdf85876-df26-4992-a752-8afc36a67b9e",
     "showTitle": false,
     "title": ""
    },
    "editable": true
   },
   "outputs": [
    {
     "data": {
      "image/png": "[encoded data removed]",
      "text/plain": [
       "<matplotlib.figure.Figure at 0x7f5ec5a3aa58>"
      ]
     },
     "metadata": {
      "needs_background": "light"
     },
     "output_type": "display_data"
    }
   ],
   "source": [
    "#Visualize columns only having null percentage > 0\n",
    "visualize_nullColumns(country_data_renamed,100000,0)"
   ]
  },
  {
   "cell_type": "markdown",
   "metadata": {
    "application/vnd.databricks.v1+cell": {
     "inputWidgets": {},
     "nuid": "b8f9e8cf-fc98-4b05-8c67-6b5c554013ca",
     "showTitle": false,
     "title": ""
    },
    "editable": true
   },
   "source": [
    "- ###### Drop duplicates if any"
   ]
  },
  {
   "cell_type": "code",
   "execution_count": 196,
   "metadata": {
    "application/vnd.databricks.v1+cell": {
     "inputWidgets": {},
     "nuid": "096427b6-8369-48ea-8d3d-7431ab15f238",
     "showTitle": false,
     "title": ""
    },
    "editable": true
   },
   "outputs": [],
   "source": [
    "country_data_cleansed = country_data_renamed.dropDuplicates(['country_code'])"
   ]
  },
  {
   "cell_type": "markdown",
   "metadata": {
    "application/vnd.databricks.v1+cell": {
     "inputWidgets": {},
     "nuid": "6b692f05-137f-4cce-88ae-b055664a1c87",
     "showTitle": false,
     "title": ""
    },
    "editable": true
   },
   "source": [
    "- ###### Schema"
   ]
  },
  {
   "cell_type": "code",
   "execution_count": 197,
   "metadata": {
    "application/vnd.databricks.v1+cell": {
     "inputWidgets": {},
     "nuid": "bfca02ed-94b2-4e13-805e-605f5286cdd2",
     "showTitle": false,
     "title": ""
    },
    "editable": true
   },
   "outputs": [
    {
     "name": "stdout",
     "output_type": "stream",
     "text": [
      "root\n",
      " |-- country_name: string (nullable = true)\n",
      " |-- alpha2_code: string (nullable = true)\n",
      " |-- alpha3_code: string (nullable = true)\n",
      " |-- country_code: integer (nullable = true)\n",
      "\n"
     ]
    }
   ],
   "source": [
    "country_data_cleansed.printSchema()"
   ]
  },
  {
   "cell_type": "markdown",
   "metadata": {
    "application/vnd.databricks.v1+cell": {
     "inputWidgets": {},
     "nuid": "f6d28542-437c-446c-9712-bc84d4c729d1",
     "showTitle": false,
     "title": ""
    },
    "editable": true
   },
   "source": [
    "### Definition of Data Model"
   ]
  },
  {
   "cell_type": "markdown",
   "metadata": {
    "application/vnd.databricks.v1+cell": {
     "inputWidgets": {},
     "nuid": "5f91b44a-a718-40f9-990a-061489629085",
     "showTitle": false,
     "title": ""
    },
    "editable": true
   },
   "source": [
    "####  Conceptual Data Model"
   ]
  },
  {
   "cell_type": "markdown",
   "metadata": {
    "application/vnd.databricks.v1+cell": {
     "inputWidgets": {},
     "nuid": "84f43be8-7fef-41f0-9ac2-ba10e74b9fa5",
     "showTitle": false,
     "title": ""
    },
    "editable": true
   },
   "source": [
    "![](https://udacityawsbucket01.s3.us-west-1.amazonaws.com/dbdiagram.PNG)"
   ]
  },
  {
   "cell_type": "markdown",
   "metadata": {
    "application/vnd.databricks.v1+cell": {
     "inputWidgets": {},
     "nuid": "a27b4822-9cd2-422d-b58e-56f3498cda5a",
     "showTitle": false,
     "title": ""
    },
    "editable": true
   },
   "source": [
    "###### Description:\n",
    "- The above diagram represents the Star Schemaa model we are going to follow for this project.\n",
    "- We have five dimension tables among which `dim_country`,`dim_travelmode`,`dim_visa` are ULT(User Loaded Tables) tables and it will be loadded onetime. And will be changed if any information changes.\n",
    "- `dim_tempearture` is dervied from Tempearture dataset\n",
    "- `dim_city` derivied from the US city dataset.\n",
    "- `dim_time` is dervied from the `arrival_time` attribute of i94_immigration dataset and holds all the details of particular arrival_time\n",
    "- We have one fact table `fact_immigration` derived from i94_immigration dataset.\n",
    "\n",
    "###### Reason for this Modelling:\n",
    "\n",
    "- Our analytics team will aggregate by the `city` and by `month` or `year`. Thats why `dim_time` is kept for time details.\n",
    "- We are also interested to know, the time a person arriving in US what is the temperature in both residence_country and the city of the US state the person will live.\n",
    "- We have the details for us_city to analyze where an immigrant lives in US.\n",
    "- We have kept three ULT tables for data enhancements."
   ]
  },
  {
   "cell_type": "markdown",
   "metadata": {
    "application/vnd.databricks.v1+cell": {
     "inputWidgets": {},
     "nuid": "d7eb09dc-1575-4930-b7d1-bea5bb0986df",
     "showTitle": false,
     "title": ""
    },
    "editable": true
   },
   "source": [
    "#### Mapping Out Data Pipelines"
   ]
  },
  {
   "cell_type": "markdown",
   "metadata": {
    "application/vnd.databricks.v1+cell": {
     "inputWidgets": {},
     "nuid": "2653a736-f069-48a6-b127-86ec7b822419",
     "showTitle": false,
     "title": ""
    },
    "editable": true
   },
   "source": [
    "- creation of tables as per the above data model\n",
    "- Quality check for tables\n",
    "- Write each table in the Amazon s3 as sink.\n",
    "- We are going to truncate and delete the dimension table and fact table will be written in append mode."
   ]
  },
  {
   "cell_type": "markdown",
   "metadata": {
    "application/vnd.databricks.v1+cell": {
     "inputWidgets": {},
     "nuid": "bcd86f8f-df48-431f-b9bc-37ef9d646997",
     "showTitle": false,
     "title": ""
    },
    "editable": true
   },
   "source": [
    "### ETL Pipelines to Model the Data \n",
    "#### Data model Creation"
   ]
  },
  {
   "cell_type": "markdown",
   "metadata": {
    "application/vnd.databricks.v1+cell": {
     "inputWidgets": {},
     "nuid": "e701853c-f5de-4f2b-997d-589f473ba8f6",
     "showTitle": false,
     "title": ""
    },
    "editable": true
   },
   "source": [
    "####   **fact_imigration:**"
   ]
  },
  {
   "cell_type": "code",
   "execution_count": 198,
   "metadata": {
    "application/vnd.databricks.v1+cell": {
     "inputWidgets": {},
     "nuid": "2edf15b5-b42e-4342-9785-adac075ae79d",
     "showTitle": false,
     "title": ""
    },
    "editable": true
   },
   "outputs": [
    {
     "name": "stdout",
     "output_type": "stream",
     "text": [
      "+------------+----------+-------------------+----------------------+-------+------------+--------------+---+---------+-----------+-----+------------+--------+------------+--------------+----------+---------+--------------+------+-------+-------------+---------+--------+\n",
      "|immigrant_id|state_code|origin_country_code|residence_country_code|port_id|arrival_date|departure_date|age|visa_code|travel_mode|count|fileadd_date|visapost|arrival_flag|departure_flag|match_flag|birthyear|admission_date|gender|airline| admission_no|flight_no|visatype|\n",
      "+------------+----------+-------------------+----------------------+-------+------------+--------------+---+---------+-----------+-----+------------+--------+------------+--------------+----------+---------+--------------+------+-------+-------------+---------+--------+\n",
      "|      243257|        NY|                130|                   130|    PHO|  2016-04-02|    2016-04-07| 44|        2|          1|    1|  2016-04-02|    null|           G|             O|         M|     1972|    2016-06-30|     F|     DL|55475571333.0|       47|      WT|\n",
      "|      289649|        GA|                245|                   245|    DET|  2016-04-02|    2016-04-11| 59|        2|          1|    1|  2016-04-02|     GUZ|           G|             O|         M|     1957|    2016-10-01|     M|     DL|92567520030.0|      582|      B2|\n",
      "|     1498315|        FL|                582|                   582|    SEA|  2016-04-08|    2016-04-16| 40|        2|          1|    1|  2016-04-08|     MEX|           G|             O|         M|     1976|    2016-10-07|     F|     Y4|93030173630.0|      976|      B2|\n",
      "|     2305457|        CA|                104|                   104|    SFR|  2016-04-13|    2016-04-21| 42|        1|          1|    1|  2016-04-13|    null|           G|             O|         M|     1974|    2016-07-11|     M|     KL|56089932333.0|      605|      WB|\n",
      "|     4702607|        FL|                135|                   135|    ORL|  2016-04-25|    2016-04-28| 49|        2|          1|    1|  2016-04-25|    null|           O|             O|         M|     1967|    2016-07-23|  null|     BA|59255771833.0|     2037|      WT|\n",
      "|     4756602|        AL|                520|                   520|    MIA|  2016-04-25|    2016-06-21|  5|        2|          1|    1|  2016-04-25|     BGN|           G|             O|         M|     2011|    2016-10-24|     F|     AA|94500896530.0|      982|      B2|\n",
      "|       80898|        AR|                261|                   261|    DET|  2016-04-01|    2016-04-16| 29|        2|          1|    1|  2016-04-01|     RID|           G|             O|         M|     1987|    2016-09-30|     M|     AA|92472373730.0|       51|      B2|\n",
      "|      852702|        CA|                148|                   112|    DAL|  2016-04-05|    2016-05-10| 57|        2|          1|    1|  2016-04-05|    null|           O|             N|         M|     1959|    2016-07-03|  null|     LH|55682352033.0|      452|      WT|\n",
      "|     2023167|        HI|                209|                   209|    HHW|  2016-04-11|    2016-04-15| 26|        2|          1|    1|  2016-04-11|    null|           G|             O|         M|     1990|    2016-07-09|     M|     HA|56013293533.0|      458|      WT|\n",
      "|     2615091|        FL|                577|                   577|    MIA|  2016-04-14|    2016-05-05| 56|        2|          1|    1|  2016-04-14|     GTM|           G|             O|         M|     1960|    2016-10-13|     F|     AV|93508720330.0|      342|      B2|\n",
      "+------------+----------+-------------------+----------------------+-------+------------+--------------+---+---------+-----------+-----+------------+--------+------------+--------------+----------+---------+--------------+------+-------+-------------+---------+--------+\n",
      "only showing top 10 rows\n",
      "\n"
     ]
    }
   ],
   "source": [
    "try:\n",
    "    fact_immigration = immigration_cleansed.select('immigrant_id',\n",
    "                                                F.upper(F.trim(F.col('state_code'))).alias('state_code'),\n",
    "                                                'origin_country_code',\n",
    "                                                'residence_country_code',\n",
    "                                                'port_id',\n",
    "                                                'arrival_date',\n",
    "                                                'departure_date',\n",
    "                                                'age',\n",
    "                                                'visa_code',\n",
    "                                                'travel_mode' ,\n",
    "                                                'count',\n",
    "                                                'fileadd_date',\n",
    "                                                'visapost',\n",
    "                                                'arrival_flag',\n",
    "                                                'departure_flag',\n",
    "                                                'match_flag',\n",
    "                                                'birthyear',\n",
    "                                                'admission_date',\n",
    "                                                'gender',\n",
    "                                                'airline',\n",
    "                                                'admission_no',\n",
    "                                                'flight_no',\n",
    "                                                'visatype'\n",
    "                                              )\n",
    "\n",
    "    fact_immigration.show(10)\n",
    "\n",
    "except Exception as e:\n",
    "    logger.error(\"Error while creating Immigraion table\")\n",
    "    print(e)"
   ]
  },
  {
   "cell_type": "markdown",
   "metadata": {
    "application/vnd.databricks.v1+cell": {
     "inputWidgets": {},
     "nuid": "6280aaaa-9f8e-466c-a007-6d6212314e11",
     "showTitle": false,
     "title": ""
    },
    "editable": true
   },
   "source": [
    "####   **dim_temperature:**"
   ]
  },
  {
   "cell_type": "code",
   "execution_count": 199,
   "metadata": {
    "application/vnd.databricks.v1+cell": {
     "inputWidgets": {},
     "nuid": "689397eb-4a6e-4b78-b443-472ddcfa82c7",
     "showTitle": false,
     "title": ""
    },
    "editable": true
   },
   "outputs": [
    {
     "name": "stdout",
     "output_type": "stream",
     "text": [
      "+----------+------+---------------+---------------------------+--------------+--------+---------+\n",
      "|      date|  city|avg_temperature|avg_temperature_uncertainty|       country|latitude|longitude|\n",
      "+----------+------+---------------+---------------------------+--------------+--------+---------+\n",
      "|1778-05-01|  bonn|         14.112|                      3.186|       germany|  50.63N|    6.34E|\n",
      "|1781-05-01|  bonn|          14.19|                      3.379|       germany|  50.63N|    6.34E|\n",
      "|1802-09-01|bombay|         28.007|                      1.807|         india|  18.48N|   72.68E|\n",
      "|1804-09-01|bombay|         27.725|                      2.994|         india|  18.48N|   72.68E|\n",
      "|1809-07-01|bolton|         14.494|                      1.895|united kingdom|  53.84N|    1.36W|\n",
      "+----------+------+---------------+---------------------------+--------------+--------+---------+\n",
      "only showing top 5 rows\n",
      "\n"
     ]
    }
   ],
   "source": [
    "try:\n",
    "    dim_temperature = temperature_cleansed.select('date',\n",
    "                                              F.lower(F.trim(F.col('city'))).alias('city'), \n",
    "                                              'avg_temperature',\n",
    "                                              'avg_temperature_uncertainty',\n",
    "                                              F.lower(F.trim(F.col('country'))).alias('country'),\n",
    "                                              'latitude',\n",
    "                                              'longitude'\n",
    "                                             )\n",
    "\n",
    "    dim_temperature.show(5)\n",
    "\n",
    "except Exception as e:\n",
    "    logger.error(\"Error while creating temperature table\")\n",
    "    print(e)"
   ]
  },
  {
   "cell_type": "markdown",
   "metadata": {
    "application/vnd.databricks.v1+cell": {
     "inputWidgets": {},
     "nuid": "cad0d730-db63-40ab-8440-a585b589b62f",
     "showTitle": false,
     "title": ""
    },
    "editable": true
   },
   "source": [
    "####   **dim_city:**"
   ]
  },
  {
   "cell_type": "code",
   "execution_count": 200,
   "metadata": {
    "application/vnd.databricks.v1+cell": {
     "inputWidgets": {},
     "nuid": "f0a5e9e0-3e64-4cbe-82dd-f724c49c9746",
     "showTitle": false,
     "title": ""
    },
    "editable": true
   },
   "outputs": [
    {
     "name": "stdout",
     "output_type": "stream",
     "text": [
      "+------------+--------------+----------+---------------+-----------------+----------------+------------------+--------------+------------------+----------+--------------------+-----+\n",
      "|        city|         state|median_age|male_population|female_population|total_population|veteran_population|foreigner_born|avg_household_size|state_code|                race|count|\n",
      "+------------+--------------+----------+---------------+-----------------+----------------+------------------+--------------+------------------+----------+--------------------+-----+\n",
      "|saint george|          Utah|      37.3|          38732|            41475|           80207|              4443|          4824|              2.81|        UT|Black or African-...| 1376|\n",
      "|       tyler|         Texas|      33.9|          50422|            53283|          103705|              4813|          8225|              2.59|        TX|American Indian a...| 1057|\n",
      "|   worcester| Massachusetts|      34.9|          90951|            93855|          184806|              9408|         36907|              2.43|        MA|               Asian|15932|\n",
      "|      caguas|   Puerto Rico|      40.4|          34743|            42265|           77008|              null|          null|              null|        PR|  Hispanic or Latino|76349|\n",
      "|  charleston|South Carolina|      35.0|          63956|            71568|          135524|              9368|          5767|               2.4|        SC|               Asian| 2773|\n",
      "+------------+--------------+----------+---------------+-----------------+----------------+------------------+--------------+------------------+----------+--------------------+-----+\n",
      "only showing top 5 rows\n",
      "\n"
     ]
    }
   ],
   "source": [
    "try:\n",
    "    dim_city = city_data_cleansed.select(F.lower(F.trim(F.col('city'))).alias('city'),\n",
    "                                    F.trim(F.col('state')).alias('state'),\n",
    "                                    'median_age',\n",
    "                                    'male_population',\n",
    "                                    'female_population',\n",
    "                                    'total_population',\n",
    "                                    'veteran_population',\n",
    "                                    'foreigner_born',\n",
    "                                    'avg_household_size',\n",
    "                                    F.upper(F.trim(F.col('state_code'))).alias('state_code'),\n",
    "                                    'race',\n",
    "                                    'count')\n",
    "\n",
    "    dim_city.show(5)\n",
    "except Exception as e:\n",
    "    logger.error(\"Error while creating city table\")\n",
    "    print(e)"
   ]
  },
  {
   "cell_type": "markdown",
   "metadata": {
    "application/vnd.databricks.v1+cell": {
     "inputWidgets": {},
     "nuid": "9cc5592a-fdb4-494f-bd69-295474790cef",
     "showTitle": false,
     "title": ""
    },
    "editable": true
   },
   "source": [
    "####   **dim_time:**"
   ]
  },
  {
   "cell_type": "code",
   "execution_count": 201,
   "metadata": {
    "application/vnd.databricks.v1+cell": {
     "inputWidgets": {},
     "nuid": "bde3fdb3-192c-43bc-900d-f243b735c408",
     "showTitle": false,
     "title": ""
    },
    "editable": true
   },
   "outputs": [
    {
     "name": "stdout",
     "output_type": "stream",
     "text": [
      "+----------+----+-----+---+---------+----------+\n",
      "|      date|year|month|day|dayofweek|weekofyear|\n",
      "+----------+----+-----+---+---------+----------+\n",
      "|2016-04-14|2016|    4| 14|        5|        15|\n",
      "|2016-04-25|2016|    4| 25|        2|        17|\n",
      "|2016-04-16|2016|    4| 16|        7|        15|\n",
      "|2016-04-19|2016|    4| 19|        3|        16|\n",
      "|2016-04-17|2016|    4| 17|        1|        15|\n",
      "+----------+----+-----+---+---------+----------+\n",
      "only showing top 5 rows\n",
      "\n"
     ]
    }
   ],
   "source": [
    "try:\n",
    "    dim_time =  immigration_cleansed.select(F.col('arrival_date').alias('date'),\n",
    "                                        F.date_format('arrival_date','y').alias('year'),\n",
    "                                        F.date_format('arrival_date','M').alias('month'),\n",
    "                                        F.date_format('arrival_date','d').alias('day'),\n",
    "                                        F.dayofweek('arrival_date').alias('dayofweek'),\n",
    "                                        F.weekofyear('arrival_date').alias('weekofyear')).distinct()\n",
    "\n",
    "    dim_time.show(5)\n",
    "\n",
    "except Exception as e:\n",
    "    logger.error(\"Error while creating time table\")\n",
    "    print(e)"
   ]
  },
  {
   "cell_type": "markdown",
   "metadata": {
    "application/vnd.databricks.v1+cell": {
     "inputWidgets": {},
     "nuid": "8939a518-5670-451c-89a9-46ba5a8504f8",
     "showTitle": false,
     "title": ""
    },
    "editable": true
   },
   "source": [
    "####   **dim_country:**"
   ]
  },
  {
   "cell_type": "code",
   "execution_count": 202,
   "metadata": {
    "application/vnd.databricks.v1+cell": {
     "inputWidgets": {},
     "nuid": "c4d33156-5a68-4e71-964b-fd73405b1a85",
     "showTitle": false,
     "title": ""
    },
    "editable": true
   },
   "outputs": [
    {
     "name": "stdout",
     "output_type": "stream",
     "text": [
      "+------------+-------------+-----------+-----------+\n",
      "|country_code| country_name|alpha2_code|alpha3_code|\n",
      "+------------+-------------+-----------+-----------+\n",
      "|         148|         Chad|         TD|        TCD|\n",
      "|         496|     Mongolia|         MN|        MNG|\n",
      "|         833|  Isle of Man|         IM|        IMN|\n",
      "|         392|        Japan|         JP|        JPN|\n",
      "|         540|New Caledonia|         NC|        NCL|\n",
      "+------------+-------------+-----------+-----------+\n",
      "only showing top 5 rows\n",
      "\n"
     ]
    }
   ],
   "source": [
    "try:\n",
    "    dim_country = country_data_cleansed.select( 'country_code',\n",
    "                                            F.trim(F.col('country_name')).alias('country_name'),\n",
    "                                            'alpha2_code',\n",
    "                                            'alpha3_code',\n",
    "                                            )\n",
    "\n",
    "    dim_country.show(5)\n",
    "\n",
    "except Exception as e:\n",
    "    logger.error(\"Error while creating country table\")\n",
    "    print(e)"
   ]
  },
  {
   "cell_type": "markdown",
   "metadata": {
    "application/vnd.databricks.v1+cell": {
     "inputWidgets": {},
     "nuid": "c1b04b37-bf16-4608-a733-e2d70b103f57",
     "showTitle": false,
     "title": ""
    },
    "editable": true
   },
   "source": [
    "####   **dim_visa:**"
   ]
  },
  {
   "cell_type": "code",
   "execution_count": 203,
   "metadata": {
    "application/vnd.databricks.v1+cell": {
     "inputWidgets": {},
     "nuid": "d33959a8-6541-488d-8092-30cdd385a38a",
     "showTitle": false,
     "title": ""
    },
    "editable": true
   },
   "outputs": [
    {
     "name": "stdout",
     "output_type": "stream",
     "text": [
      "+---------+----------------+\n",
      "|visa_code|visa_description|\n",
      "+---------+----------------+\n",
      "|        1|        Business|\n",
      "|        2|        Pleasure|\n",
      "|        3|         Student|\n",
      "+---------+----------------+\n",
      "\n"
     ]
    }
   ],
   "source": [
    "try:\n",
    "    data = [[1,'Business'],\n",
    "        [2,'Pleasure'],\n",
    "        [3,'Student']]\n",
    "\n",
    "    visa_headers = ['visa_code','visa_description']\n",
    "    dim_visa = spark.createDataFrame(data=data, schema = visa_headers)\n",
    "    dim_visa.show()\n",
    "\n",
    "except Exception as e:\n",
    "    logger.error(\"Error while creating visa table\")\n",
    "    print(e)"
   ]
  },
  {
   "cell_type": "markdown",
   "metadata": {
    "application/vnd.databricks.v1+cell": {
     "inputWidgets": {},
     "nuid": "09f10fe9-3387-4ddf-bef6-cc7df7ff2a5f",
     "showTitle": false,
     "title": ""
    },
    "editable": true
   },
   "source": [
    "####   **dim_travelmode:**"
   ]
  },
  {
   "cell_type": "code",
   "execution_count": 204,
   "metadata": {
    "application/vnd.databricks.v1+cell": {
     "inputWidgets": {},
     "nuid": "6fcc7521-249e-4be2-9467-ab9d03446d12",
     "showTitle": false,
     "title": ""
    },
    "editable": true
   },
   "outputs": [
    {
     "name": "stdout",
     "output_type": "stream",
     "text": [
      "+-----------+------------+\n",
      "|travel_code| description|\n",
      "+-----------+------------+\n",
      "|          1|         Air|\n",
      "|          2|         Sea|\n",
      "|          3|        Land|\n",
      "|          9|Not reported|\n",
      "+-----------+------------+\n",
      "\n"
     ]
    }
   ],
   "source": [
    "try:\n",
    "    data = [[1 , 'Air'],\n",
    "       [2 , 'Sea'],\n",
    "       [3 , 'Land'],\n",
    "       [9 , 'Not reported']]\n",
    "\n",
    "    travel_headers = ['travel_code','description']\n",
    "    dim_travelmode = spark.createDataFrame(data=data, schema = travel_headers)\n",
    "    dim_travelmode.show()\n",
    "    \n",
    "except Exception as e:\n",
    "    logger.error(\"Error while creating travelmode table\")\n",
    "    print(e)"
   ]
  },
  {
   "cell_type": "markdown",
   "metadata": {
    "application/vnd.databricks.v1+cell": {
     "inputWidgets": {},
     "nuid": "12033436-8f7f-4f9a-99b2-af608b4c35f1",
     "showTitle": false,
     "title": ""
    },
    "editable": true
   },
   "source": [
    "#### Data Quality Checks\n",
    "\n",
    "###### Description:\n",
    "- We are using pre-defined spark  schema for each of these tables to validate the data. By that we can validate the null, any datatype mismatch, attribute mismatch.\n",
    "- Data count check is also part of validation, passed if record count greater than 0.\n",
    " \n",
    "Run Quality Checks"
   ]
  },
  {
   "cell_type": "code",
   "execution_count": 205,
   "metadata": {
    "application/vnd.databricks.v1+cell": {
     "inputWidgets": {},
     "nuid": "2b6ea50c-52e5-4c4e-b192-5b3b6ea47130",
     "showTitle": false,
     "title": ""
    },
    "editable": true
   },
   "outputs": [],
   "source": [
    "#Quality Check for dim_city table\n",
    "try:\n",
    "    quality_cheker(spark,dim_city,city_schema)\n",
    "    logger.info(\"Quality check passed city table!!\")\n",
    "\n",
    "except Exception as e:\n",
    "    logger.error(\"Error while Quality Checking at  city table\")\n",
    "    print(e)\n",
    "\n",
    "#Quality Check for dim_teperature table\n",
    "try:\n",
    "    quality_cheker(spark,dim_temperature,temperature_schema)\n",
    "    logger.info(\"Quality check passed temperature table!!\")\n",
    "except Exception as e:\n",
    "    logger.error(\"Error while Quality Checking at temperature table\")\n",
    "    print(e)\n",
    "\n",
    "#Quality Check for dim_time table\n",
    "try:\n",
    "    quality_cheker(spark,dim_time,time_schema)\n",
    "    logger.info(\"Quality check passed time table!!\")\n",
    "except Exception as e:\n",
    "    logger.error(\"Error while Quality Checking at time table\")\n",
    "    print(e)\n",
    "\n",
    "#Quality Check for fact_immigration table\n",
    "try:\n",
    "    quality_cheker(spark,fact_immigration,immigration_schema)\n",
    "    logger.info(\"Quality check passed immigration table!!\")\n",
    "except Exception as e:\n",
    "    logger.error(\"Error while Quality Checking at  immigration table\")\n",
    "    print(e)"
   ]
  },
  {
   "cell_type": "markdown",
   "metadata": {
    "application/vnd.databricks.v1+cell": {
     "inputWidgets": {},
     "nuid": "b6ede521-bf2f-4bb3-972b-b60656fedb38",
     "showTitle": false,
     "title": ""
    },
    "editable": true
   },
   "source": [
    "#### Write table dataframe to s3"
   ]
  },
  {
   "cell_type": "code",
   "execution_count": 125,
   "metadata": {
    "application/vnd.databricks.v1+cell": {
     "inputWidgets": {},
     "nuid": "a9c03b8a-c61c-4593-9a31-85929319ab79",
     "showTitle": false,
     "title": ""
    },
    "editable": true
   },
   "outputs": [],
   "source": [
    "#truncate-load\n",
    "try:\n",
    "    dim_city.write.format('parquet').mode('overwrite').save(s3_output_path+'dim_city')\n",
    "    logger.info(\"S3 load done for city !!\")\n",
    "\n",
    "except Exception as e:\n",
    "    logger.error(\"Error writing city table to S3\")\n",
    "    print(e)\n",
    "\n",
    "try:\n",
    "    dim_temperature.write.format('parquet').mode('overwrite').save(s3_output_path+\"dim_temperature\")\n",
    "    logger.info(\"S3 load done for temperature !!\")\n",
    "except Exception as e:\n",
    "    logger.error(\"Error writing temperature table to S3\")\n",
    "    print(e)\n",
    "\n",
    "try:\n",
    "    dim_time.write.format('parquet').mode('overwrite').save(s3_output_path+\"dim_time\")\n",
    "    logger.info(\"S3 load done for time !!\")\n",
    "except Exception as e:\n",
    "    logger.error(\"Error writing time table to S3\")\n",
    "    print(e)\n",
    "    \n",
    "try:\n",
    "    dim_country.write.format('parquet').mode('overwrite').save(s3_output_path+\"dim_country\")\n",
    "    logger.info(\"S3 load done for country !!\")\n",
    "except Exception as e:\n",
    "    logger.error(\"Error writing country table to S3\")\n",
    "    print(e)\n",
    "\n",
    "try:\n",
    "    dim_visa.write.format('parquet').mode('overwrite').save(s3_output_path+\"dim_visa\")\n",
    "    logger.info(\"S3 load done for visa !!\")\n",
    "except Exception as e:\n",
    "    logger.error(\"Error writing visa table to S3\")\n",
    "    print(e)\n",
    "    \n",
    "try:\n",
    "    dim_travelmode.write.format('parquet').mode('overwrite').save(s3_output_path+\"dim_travelmode\")\n",
    "    logger.info(\"S3 load done for travelmode !!\")\n",
    "except Exception as e:\n",
    "    logger.error(\"Error writing travelmode table to S3\")\n",
    "    print(e)\n",
    "\n",
    "#append write\n",
    "try:\n",
    "    fact_immigration.write.format('parquet').mode('append').save(s3_output_path+\"fact_immigration\")\n",
    "    logger.info(\"S3 load done for immigration !!\")\n",
    "except Exception as e:\n",
    "    logger.error(\"Error writing immigration table to S3\")\n",
    "    print(e)"
   ]
  },
  {
   "cell_type": "markdown",
   "metadata": {
    "application/vnd.databricks.v1+cell": {
     "inputWidgets": {},
     "nuid": "f9c41def-1844-4168-a162-f43d0d8c1dff",
     "showTitle": false,
     "title": ""
    },
    "editable": true
   },
   "source": [
    "#### Conclusion \n",
    "* Technologies used.</br>&nbsp;&nbsp; \n",
    " - ** We have used s3 as the data source and also s3 as the sink as currently we have smaller group of users and cost of s3 is cheaper **\n",
    " - ** All the processing are done on spark 3 version on top of Databricks cluster(community edition) beacause saprk is one of best tools for big data processing. **\n",
    "* Data update frequency.</br>&nbsp;&nbsp; \n",
    " - ** From the immifration dataset it is observed that data is updated monthly, so for our etl we want to update the same **\n",
    "\n",
    "* The data was increased by 100x.</br>&nbsp;&nbsp; \n",
    " - ** For processing in spark we can increase the number of worker nodes **\n",
    "* The data populates a dashboard that must be updated on a daily basis by 7am every day.</br>&nbsp;&nbsp; \n",
    " - ** We can use Apache Airflow and schedule it on a prticular time of day to generate dashboard **\n",
    "* The database needed to be accessed by 100+ people.</br>&nbsp;&nbsp; \n",
    " - ** We should go for Amazon Redshift database for higher access. **"
   ]
  }
 ],
 "metadata": {
  "application/vnd.databricks.v1+notebook": {
   "dashboards": [],
   "language": "python",
   "notebookMetadata": {
    "pythonIndentUnit": 2
   },
   "notebookName": "etl",
   "notebookOrigID": 397114965124211,
   "widgets": {}
  },
  "kernelspec": {
   "display_name": "Python 3",
   "language": "python",
   "name": "python3"
  },
  "language_info": {
   "codemirror_mode": {
    "name": "ipython",
    "version": 3
   },
   "file_extension": ".py",
   "mimetype": "text/x-python",
   "name": "python",
   "nbconvert_exporter": "python",
   "pygments_lexer": "ipython3",
   "version": "3.6.3"
  }
 },
 "nbformat": 4,
 "nbformat_minor": 4
}
